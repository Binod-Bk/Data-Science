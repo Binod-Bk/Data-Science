{
 "cells": [
  {
   "cell_type": "code",
   "execution_count": 3,
   "id": "236bfb25-7a00-45a8-942a-ab2d5bf006b3",
   "metadata": {},
   "outputs": [],
   "source": [
    "import pandas as pd\n",
    "\n",
    "# Load the Excel file\n",
    "df = pd.read_excel('initial_file.xls', sheet_name='Orders')\n",
    "\n",
    "# Extract unique Category and Subcategory combinations\n",
    "unique_categories = df[['Category', 'Sub-Category']].drop_duplicates()\n",
    "\n",
    "# Create auto-incrementing CategoryID and SubcategoryID\n",
    "unique_categories['CategoryID'] = unique_categories['Category'].factorize()[0] + 1\n",
    "unique_categories['SubcategoryID'] = unique_categories['Sub-Category'].factorize()[0] + 1\n",
    "\n",
    "# Save the unique Category and Subcategory to separate CSV files\n",
    "unique_categories[['Category', 'CategoryID']].drop_duplicates().to_csv('Category.csv', index=False)\n",
    "unique_categories[['Sub-Category', 'SubcategoryID', 'CategoryID']].to_csv('Subcategory.csv', index=False)\n",
    "\n",
    "# Now map the SubcategoryID and CategoryID back to the main product table\n",
    "df = df.merge(unique_categories[['Sub-Category', 'SubcategoryID']], on='Sub-Category', how='left')\n",
    "df = df.merge(unique_categories[['Category', 'CategoryID']], on='Category', how='left')\n",
    "\n",
    "# Save the product data with the new SubcategoryID and CategoryID\n",
    "df.to_csv('Product.csv', index=False)\n"
   ]
  },
  {
   "cell_type": "code",
   "execution_count": null,
   "id": "803b023b-37c8-49d2-a5ec-236a2dd532da",
   "metadata": {},
   "outputs": [],
   "source": []
  }
 ],
 "metadata": {
  "kernelspec": {
   "display_name": "Python 3 (ipykernel)",
   "language": "python",
   "name": "python3"
  },
  "language_info": {
   "codemirror_mode": {
    "name": "ipython",
    "version": 3
   },
   "file_extension": ".py",
   "mimetype": "text/x-python",
   "name": "python",
   "nbconvert_exporter": "python",
   "pygments_lexer": "ipython3",
   "version": "3.12.0"
  }
 },
 "nbformat": 4,
 "nbformat_minor": 5
}
